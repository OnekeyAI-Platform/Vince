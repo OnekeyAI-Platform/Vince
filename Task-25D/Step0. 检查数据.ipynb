{
 "cells": [
  {
   "cell_type": "markdown",
   "id": "ffa8d148",
   "metadata": {},
   "source": [
    "# 生存label"
   ]
  },
  {
   "cell_type": "code",
   "execution_count": 31,
   "id": "bbcf3ef4",
   "metadata": {},
   "outputs": [
    {
     "name": "stdout",
     "output_type": "stream",
     "text": [
      "group  label\n",
      "train  0        331\n",
      "test   0         78\n",
      "train  1         59\n",
      "test   1         21\n",
      "dtype: int64 (489, 3)\n"
     ]
    }
   ],
   "source": [
    "from onekey_algo import get_param_in_cwd\n",
    "from onekey_algo.custom.components.metrics import get_time_dependent_gt\n",
    "import pandas as pd\n",
    "import os\n",
    "\n",
    "root = get_param_in_cwd('radio_dir')\n",
    "data = pd.read_csv(os.path.join(root, 'data.csv'))[['ID', 'OS', 'OSTIME']]\n",
    "label_data = get_time_dependent_gt(data, 36, duration_col='OSTIME', event_col='OS')\n",
    "label_data['group'] = label_data['ID'].map(lambda x: 'train' if 'primary' in x else 'test')\n",
    "label_data.to_csv(os.path.join(root, 'label.csv'), index=False)\n",
    "print(label_data[['group', 'label']].value_counts(), label_data.shape)"
   ]
  },
  {
   "cell_type": "markdown",
   "id": "9c889af4",
   "metadata": {},
   "source": [
    "# 形成2.5D数据"
   ]
  },
  {
   "cell_type": "code",
   "execution_count": 32,
   "id": "59175355",
   "metadata": {},
   "outputs": [
    {
     "data": {
      "text/html": [
       "<div>\n",
       "<style scoped>\n",
       "    .dataframe tbody tr th:only-of-type {\n",
       "        vertical-align: middle;\n",
       "    }\n",
       "\n",
       "    .dataframe tbody tr th {\n",
       "        vertical-align: top;\n",
       "    }\n",
       "\n",
       "    .dataframe thead th {\n",
       "        text-align: right;\n",
       "    }\n",
       "</style>\n",
       "<table border=\"1\" class=\"dataframe\">\n",
       "  <thead>\n",
       "    <tr style=\"text-align: right;\">\n",
       "      <th></th>\n",
       "      <th>ID</th>\n",
       "      <th>fpath</th>\n",
       "      <th>label</th>\n",
       "    </tr>\n",
       "  </thead>\n",
       "  <tbody>\n",
       "    <tr>\n",
       "      <th>0</th>\n",
       "      <td>primary-1.nii.gz</td>\n",
       "      <td>primary-1.nii.png</td>\n",
       "      <td>1</td>\n",
       "    </tr>\n",
       "    <tr>\n",
       "      <th>1</th>\n",
       "      <td>primary-1.nii.gz</td>\n",
       "      <td>primary-1.nii_+01.png</td>\n",
       "      <td>1</td>\n",
       "    </tr>\n",
       "    <tr>\n",
       "      <th>2</th>\n",
       "      <td>primary-1.nii.gz</td>\n",
       "      <td>primary-1.nii_+02.png</td>\n",
       "      <td>1</td>\n",
       "    </tr>\n",
       "    <tr>\n",
       "      <th>3</th>\n",
       "      <td>primary-1.nii.gz</td>\n",
       "      <td>primary-1.nii_+04.png</td>\n",
       "      <td>1</td>\n",
       "    </tr>\n",
       "    <tr>\n",
       "      <th>4</th>\n",
       "      <td>primary-1.nii.gz</td>\n",
       "      <td>primary-1.nii_-01.png</td>\n",
       "      <td>1</td>\n",
       "    </tr>\n",
       "    <tr>\n",
       "      <th>...</th>\n",
       "      <td>...</td>\n",
       "      <td>...</td>\n",
       "      <td>...</td>\n",
       "    </tr>\n",
       "    <tr>\n",
       "      <th>3418</th>\n",
       "      <td>secondary2-72.nii.gz</td>\n",
       "      <td>secondary2-72.nii_+02.png</td>\n",
       "      <td>0</td>\n",
       "    </tr>\n",
       "    <tr>\n",
       "      <th>3419</th>\n",
       "      <td>secondary2-72.nii.gz</td>\n",
       "      <td>secondary2-72.nii_+04.png</td>\n",
       "      <td>0</td>\n",
       "    </tr>\n",
       "    <tr>\n",
       "      <th>3420</th>\n",
       "      <td>secondary2-72.nii.gz</td>\n",
       "      <td>secondary2-72.nii_-01.png</td>\n",
       "      <td>0</td>\n",
       "    </tr>\n",
       "    <tr>\n",
       "      <th>3421</th>\n",
       "      <td>secondary2-72.nii.gz</td>\n",
       "      <td>secondary2-72.nii_-02.png</td>\n",
       "      <td>0</td>\n",
       "    </tr>\n",
       "    <tr>\n",
       "      <th>3422</th>\n",
       "      <td>secondary2-72.nii.gz</td>\n",
       "      <td>secondary2-72.nii_-04.png</td>\n",
       "      <td>0</td>\n",
       "    </tr>\n",
       "  </tbody>\n",
       "</table>\n",
       "<p>3423 rows × 3 columns</p>\n",
       "</div>"
      ],
      "text/plain": [
       "                        ID                      fpath  label\n",
       "0         primary-1.nii.gz          primary-1.nii.png      1\n",
       "1         primary-1.nii.gz      primary-1.nii_+01.png      1\n",
       "2         primary-1.nii.gz      primary-1.nii_+02.png      1\n",
       "3         primary-1.nii.gz      primary-1.nii_+04.png      1\n",
       "4         primary-1.nii.gz      primary-1.nii_-01.png      1\n",
       "...                    ...                        ...    ...\n",
       "3418  secondary2-72.nii.gz  secondary2-72.nii_+02.png      0\n",
       "3419  secondary2-72.nii.gz  secondary2-72.nii_+04.png      0\n",
       "3420  secondary2-72.nii.gz  secondary2-72.nii_-01.png      0\n",
       "3421  secondary2-72.nii.gz  secondary2-72.nii_-02.png      0\n",
       "3422  secondary2-72.nii.gz  secondary2-72.nii_-04.png      0\n",
       "\n",
       "[3423 rows x 3 columns]"
      ]
     },
     "execution_count": 32,
     "metadata": {},
     "output_type": "execute_result"
    }
   ],
   "source": [
    "samples = []\n",
    "for idx, row in label_data.iterrows():\n",
    "    label = row['label']\n",
    "    fname = row['ID']\n",
    "    for islice in ['', '_+01', '_+02', '_+04', '_-01', '_-02', '_-04']:\n",
    "        samples.append([fname, fname.replace('.nii.gz', f'.nii{islice}.png'), label])\n",
    "samples = pd.DataFrame(samples, columns=['ID', 'fpath', 'label'])\n",
    "samples"
   ]
  },
  {
   "cell_type": "code",
   "execution_count": 33,
   "id": "9237cef5",
   "metadata": {},
   "outputs": [
    {
     "name": "stdout",
     "output_type": "stream",
     "text": [
      "训练集：1841|263, 非训练集：1582|226\n",
      "训练集：1820|260, 非训练集：1603|229\n",
      "训练集：1806|258, 非训练集：1617|231\n",
      "训练集：1827|261, 非训练集：1596|228\n",
      "训练集：1820|260, 非训练集：1603|229\n",
      "训练集：1848|264, 非训练集：1575|225\n",
      "训练集：1841|263, 非训练集：1582|226\n",
      "训练集：1848|264, 非训练集：1575|225\n",
      "训练集：1820|260, 非训练集：1603|229\n",
      "训练集：1813|259, 非训练集：1610|230\n"
     ]
    }
   ],
   "source": [
    "import os\n",
    "import re\n",
    "import shutil\n",
    "import pandas as pd\n",
    "from onekey_algo.custom.components.comp2 import split_dataset4sol\n",
    "from onekey_algo import get_param_in_cwd\n",
    "from onekey_algo.custom.utils import print_join_info\n",
    "import numpy as np\n",
    "\n",
    "survival_data = pd.read_csv(get_param_in_cwd('survival_file'))\n",
    "train_data = survival_data[survival_data['group'] == 'train']\n",
    "test_data = survival_data[survival_data['group'] != 'train']\n",
    "\n",
    "rt = split_dataset4sol(train_data, train_data['OS'], cv=False, n_trails=10, test_size=0.33, save_dir='.', shuffle=True)\n",
    "for idx, (train, val) in enumerate(rt):\n",
    "    val['group'] = 'val'\n",
    "    c_data = pd.concat([train, val, test_data], axis=0)\n",
    "    c_data.to_csv(f'split_info/label-RND-{idx}.csv', index=False)\n",
    "    \n",
    "    # 2.5D 数据\n",
    "    tr_data = pd.merge(samples, c_data[c_data['group'] == 'train']['ID'], on='ID', how='inner')\n",
    "    tr_data[['fpath', 'label']].to_csv(f'split_info/train-RND-{idx}.txt', sep='\\t', index=False, header=False)\n",
    "    te_data =  pd.merge(samples, c_data[c_data['group'] != 'train']['ID'], on='ID', how='inner')\n",
    "    te_data[['fpath', 'label']].to_csv(f'split_info/val-RND-{idx}.txt', sep='\\t', index=False, header=False)\n",
    "    print(f\"训练集：{len(tr_data)}|{len(np.unique(tr_data['ID']))}, 非训练集：{len(te_data)}|{len(np.unique(te_data['ID']))}\")"
   ]
  },
  {
   "cell_type": "code",
   "execution_count": null,
   "id": "b67110c1",
   "metadata": {},
   "outputs": [],
   "source": []
  }
 ],
 "metadata": {
  "kernelspec": {
   "display_name": "Python 3 (ipykernel)",
   "language": "python",
   "name": "python3"
  },
  "language_info": {
   "codemirror_mode": {
    "name": "ipython",
    "version": 3
   },
   "file_extension": ".py",
   "mimetype": "text/x-python",
   "name": "python",
   "nbconvert_exporter": "python",
   "pygments_lexer": "ipython3",
   "version": "3.7.12"
  }
 },
 "nbformat": 4,
 "nbformat_minor": 5
}
