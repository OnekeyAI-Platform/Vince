{
 "cells": [
  {
   "cell_type": "markdown",
   "id": "e8b27860",
   "metadata": {},
   "source": [
    "# What\n",
    "分类任务，支持两种模式\n",
    "1. Folder模式，需要输入`train`, `valid`两个测试集对应的目录。`labels.txt`，需要训练的label，里面每个类别一行。\n",
    "2. List模式，需要输入`train`, `valid`两个测试集对应的训练文件，每行一个样本。`labels.txt`是可选参数，里面每个类别一行。`data_pattern`一个通用的目录，与train、val中的第一列进行拼接。"
   ]
  },
  {
   "cell_type": "code",
   "execution_count": null,
   "id": "7050436a",
   "metadata": {},
   "outputs": [],
   "source": [
    "import os\n",
    "from onekey_algo.classification.run_classification import main as clf_main\n",
    "from collections import namedtuple\n",
    "from onekey_algo import get_param_in_cwd\n",
    "\n",
    "# 设置参数\n",
    "root = get_param_in_cwd('radio_dir')\n",
    "for model_name in ['resnet18', 'resnet50', 'resnet101', 'densenet121', 'vgg19', 'densenet201', 'inception_v3'][:1]:\n",
    "    for cv in range(0, 1):\n",
    "        train_f = os.path.join('split_info', f'train-RND-{cv}.txt')\n",
    "        val_f = os.path.join('split_info', f'val-RND-{cv}.txt')\n",
    "        labels_f = os.path.join('split_info', 'labels.txt')\n",
    "        data_pattern = os.path.join(root, f'crop')\n",
    "        params = dict(train=train_f,\n",
    "                      valid=val_f,\n",
    "                      labels_file=labels_f,\n",
    "                      in_channels=3,\n",
    "                      data_pattern=data_pattern,\n",
    "                      j=6,\n",
    "                      max2use=None,\n",
    "                      val_max2use=None,\n",
    "                      batch_balance=False,\n",
    "                      normalize_method='imagenet',\n",
    "                      model_name=model_name,\n",
    "                      gpus=[0],\n",
    "                      batch_size=32,\n",
    "                      epochs=64 if model_name not in ['TwinsSVT', 'CrossFormer', 'SimpleViT'] else 96,\n",
    "                      init_lr=0.01 if model_name not in ['TwinsSVT', 'CrossFormer', 'SimpleViT'] else 0.001,\n",
    "                      optimizer='sgd',\n",
    "                      retrain=r'',\n",
    "                      model_root= os.path.join(root, 'models', f\"CV-{cv}\"),\n",
    "                      iters_start=0,\n",
    "                      iters_verbose=16,\n",
    "                      save_per_epoch=True,\n",
    "                      add_date=False,\n",
    "                      pretrained=False)\n",
    "        # 训练模型\n",
    "        Args = namedtuple(\"Args\", params)\n",
    "        clf_main(Args(**params))"
   ]
  },
  {
   "cell_type": "code",
   "execution_count": null,
   "id": "adc097df",
   "metadata": {},
   "outputs": [],
   "source": []
  }
 ],
 "metadata": {
  "kernelspec": {
   "display_name": "Python 3 (ipykernel)",
   "language": "python",
   "name": "python3"
  },
  "language_info": {
   "codemirror_mode": {
    "name": "ipython",
    "version": 3
   },
   "file_extension": ".py",
   "mimetype": "text/x-python",
   "name": "python",
   "nbconvert_exporter": "python",
   "pygments_lexer": "ipython3",
   "version": "3.7.12"
  }
 },
 "nbformat": 4,
 "nbformat_minor": 5
}
