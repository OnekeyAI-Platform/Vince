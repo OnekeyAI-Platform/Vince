{
 "cells": [
  {
   "cell_type": "code",
   "execution_count": 8,
   "id": "ba2ff8c1",
   "metadata": {},
   "outputs": [
    {
     "name": "stdout",
     "output_type": "stream",
     "text": [
      "[[0, 0, 0], [128, 0, 0], [0, 128, 0], [128, 128, 0], [0, 0, 128], [128, 0, 128], [0, 128, 128], [128, 128, 128], [64, 0, 0], [192, 0, 0], [64, 128, 0], [192, 128, 0], [64, 0, 128], [192, 0, 128], [64, 128, 128], [192, 128, 128], [0, 64, 0], [128, 64, 0], [0, 192, 0], [128, 192, 0]]\n",
      "[[0, 0, 0], [128, 128, 0], [64, 0, 128], [128, 0, 0], [64, 128, 128], [128, 192, 0], [0, 128, 0], [192, 128, 128], [192, 0, 128], [0, 0, 128], [64, 128, 0], [0, 64, 0], [128, 0, 128], [128, 64, 0], [128, 128, 128], [192, 128, 0], [0, 192, 0], [0, 128, 128], [192, 0, 0], [64, 0, 0]]\n"
     ]
    }
   ],
   "source": [
    "import os\n",
    "from PIL import Image\n",
    "import numpy as np\n",
    "import random\n",
    "from glob import glob\n",
    "\n",
    "def get_color_map_list(num_classes):\n",
    "    \"\"\" Returns the color map for visualizing the segmentation mask,\n",
    "        which can support arbitrary number of classes.\n",
    "    Args:\n",
    "        num_classes: Number of classes\n",
    "    Returns:\n",
    "        The color map\n",
    "    \"\"\"\n",
    "    color_map = num_classes * [0, 0, 0]\n",
    "    for i in range(0, num_classes):\n",
    "        j = 0\n",
    "        lab = i\n",
    "        while lab:\n",
    "            color_map[i * 3] |= (((lab >> 0) & 1) << (7 - j))\n",
    "            color_map[i * 3 + 1] |= (((lab >> 1) & 1) << (7 - j))\n",
    "            color_map[i * 3 + 2] |= (((lab >> 2) & 1) << (7 - j))\n",
    "            j += 1\n",
    "            lab >>= 3\n",
    "    color_map = [color_map[i:i + 3] for i in range(0, len(color_map), 3)]\n",
    "    return color_map\n",
    "cm = get_color_map_list(20)\n",
    "print(cm)\n",
    "cm4 = cm[1:]\n",
    "random.shuffle(cm4)\n",
    "cm = [cm[0]] + cm4\n",
    "print(cm)\n",
    "for sample in glob(r'D:\\20230428-Vince\\models\\*\\predict\\masks/*.png'):\n",
    "    fname = os.path.basename(sample)\n",
    "    img = Image.open(sample)\n",
    "    colors = np.array(cm).reshape(-1).tolist()\n",
    "    img.putpalette(colors)\n",
    "    nd = os.path.dirname(sample)+'_remap'\n",
    "    os.makedirs(nd, exist_ok=True)\n",
    "    img.save(os.path.join(nd, f\"{fname}\"))\n",
    "    "
   ]
  },
  {
   "cell_type": "code",
   "execution_count": 6,
   "id": "b6b8c327",
   "metadata": {},
   "outputs": [
    {
     "data": {
      "text/plain": [
       "[[0, 0, 0], [128, 0, 0], [0, 128, 0], [128, 128, 0], [0, 0, 128]]"
      ]
     },
     "execution_count": 6,
     "metadata": {},
     "output_type": "execute_result"
    }
   ],
   "source": [
    "get_color_map_list(5)"
   ]
  },
  {
   "cell_type": "code",
   "execution_count": null,
   "id": "500f6dcc",
   "metadata": {},
   "outputs": [],
   "source": []
  }
 ],
 "metadata": {
  "kernelspec": {
   "display_name": "Python 3 (ipykernel)",
   "language": "python",
   "name": "python3"
  },
  "language_info": {
   "codemirror_mode": {
    "name": "ipython",
    "version": 3
   },
   "file_extension": ".py",
   "mimetype": "text/x-python",
   "name": "python",
   "nbconvert_exporter": "python",
   "pygments_lexer": "ipython3",
   "version": "3.7.12"
  }
 },
 "nbformat": 4,
 "nbformat_minor": 5
}
